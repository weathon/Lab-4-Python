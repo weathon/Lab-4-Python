{
  "nbformat": 4,
  "nbformat_minor": 0,
  "metadata": {
    "colab": {
      "provenance": [],
      "collapsed_sections": [],
      "authorship_tag": "ABX9TyOPvvvj/ggJTvdRrxWRCATq",
      "include_colab_link": true
    },
    "kernelspec": {
      "name": "python3",
      "display_name": "Python 3"
    },
    "language_info": {
      "name": "python"
    }
  },
  "cells": [
    {
      "cell_type": "markdown",
      "metadata": {
        "id": "view-in-github",
        "colab_type": "text"
      },
      "source": [
        "<a href=\"https://colab.research.google.com/github/weathon/Lab-4-Python/blob/main/Lab_4.ipynb\" target=\"_parent\"><img src=\"https://colab.research.google.com/assets/colab-badge.svg\" alt=\"Open In Colab\"/></a>"
      ]
    },
    {
      "cell_type": "code",
      "execution_count": null,
      "metadata": {
        "id": "LqiIcej_B3QN"
      },
      "outputs": [],
      "source": [
        "from matplotlib import style\n",
        "import matplotlib.pyplot as plot\n",
        "import numpy as np\n",
        "import pandas as pd\n",
        "style.use('ggplot')"
      ]
    },
    {
      "cell_type": "code",
      "source": [
        "!wget -O OurDetial.data mp3.weasoft.com/OurDetial.data # Forgot to use 4 sig figs \n",
        "!wget -O OurWideRange.data  mp3.weasoft.com/OurWideRange.data \n",
        "!wget -O OtherDetial.data mp3.weasoft.com/OtherDetial.data\n",
        "!wget -O OtherWideRange.data mp3.weasoft.com/OtherWideRange.data"
      ],
      "metadata": {
        "id": "Bq3fXYPODHCw"
      },
      "execution_count": null,
      "outputs": []
    },
    {
      "cell_type": "code",
      "source": [
        "def readData(filename):\n",
        "  res = []\n",
        "  with open(filename, \"r\") as f:\n",
        "    con = f.readlines()\n",
        "  for i in con:\n",
        "    if i.startswith(\"#\"):\n",
        "      continue\n",
        "    row = []\n",
        "    for j in i.split(\",\"):\n",
        "      try:\n",
        "        row.append(float(j))\n",
        "      except:\n",
        "        row.append(np.NaN)\n",
        "        pass\n",
        "    res.append(row)\n",
        "  return res"
      ],
      "metadata": {
        "id": "mLe5DbuUCGc6"
      },
      "execution_count": null,
      "outputs": []
    },
    {
      "cell_type": "code",
      "source": [
        "x1 = np.array(list(range(1,54)))\n",
        "x1 = np.delete(x1, 24)\n",
        "x1 = np.delete(x1, 1)\n",
        "\n",
        "wide1 = readData(\"OurWideRange.data\")\n",
        "wide1 = np.delete(wide1, 24)\n",
        "wide1 = np.delete(wide1, 1)\n",
        "\n",
        "data2 = np.array(readData(\"OurDetial.data\"))\n",
        "x2 = data2[:,0]\n",
        "detial1 = data2[:,1]\n",
        "combindedX = np.append(x1, x2)\n",
        "combindedY = np.append(wide1, detial1)\n",
        "indexes = np.argsort(combindedX)\n",
        "combindedY = combindedY[indexes]\n",
        "combindedX = combindedX[indexes]"
      ],
      "metadata": {
        "id": "X1L3ooM9DcGo"
      },
      "execution_count": null,
      "outputs": []
    },
    {
      "cell_type": "code",
      "source": [
        "plot.scatter(x1, wide1)\n",
        "plot.plot(x1, wide1)"
      ],
      "metadata": {
        "colab": {
          "base_uri": "https://localhost:8080/",
          "height": 282
        },
        "id": "UVjTzrX9EUEc",
        "outputId": "70b08ee9-a1f2-4ea6-9310-4a929c3d0853"
      },
      "execution_count": null,
      "outputs": [
        {
          "output_type": "execute_result",
          "data": {
            "text/plain": [
              "[<matplotlib.lines.Line2D at 0x7f0e4cc51150>]"
            ]
          },
          "metadata": {},
          "execution_count": 112
        },
        {
          "output_type": "display_data",
          "data": {
            "text/plain": [
              "<Figure size 432x288 with 1 Axes>"
            ],
            "image/png": "[encoded data removed]"
          },
          "metadata": {}
        }
      ]
    },
    {
      "cell_type": "code",
      "source": [
        "plot.scatter(combindedX, combindedY)\n",
        "plot.plot(combindedX, combindedY)"
      ],
      "metadata": {
        "colab": {
          "base_uri": "https://localhost:8080/",
          "height": 282
        },
        "id": "tZl7_zx5FMuP",
        "outputId": "a5faaa5f-281b-4908-e9e9-b5295bcf60a8"
      },
      "execution_count": null,
      "outputs": [
        {
          "output_type": "execute_result",
          "data": {
            "text/plain": [
              "[<matplotlib.lines.Line2D at 0x7f0e4cbb4c10>]"
            ]
          },
          "metadata": {},
          "execution_count": 113
        },
        {
          "output_type": "display_data",
          "data": {
            "text/plain": [
              "<Figure size 432x288 with 1 Axes>"
            ],
            "image/png": "[encoded data removed]"
          },
          "metadata": {}
        }
      ]
    },
    {
      "cell_type": "code",
      "source": [
        "derivativeX = []\n",
        "derivative = []\n",
        "for i in range(1,combindedX.shape[0]):\n",
        "  if (combindedX[i]-combindedX[i-1]) == 0:\n",
        "    continue\n",
        "  derivativeX.append((combindedX[i]+combindedX[i-1])/2)\n",
        "  derivative.append((combindedY[i]-combindedY[i-1])/(combindedX[i]-combindedX[i-1]))"
      ],
      "metadata": {
        "id": "UmiNmlDVFBR2"
      },
      "execution_count": null,
      "outputs": []
    },
    {
      "cell_type": "code",
      "source": [
        "plot.scatter(derivativeX, derivative)\n",
        "plot.plot(derivativeX, derivative)\n",
        "# WOW LOOKS LIKE HPLC"
      ],
      "metadata": {
        "colab": {
          "base_uri": "https://localhost:8080/",
          "height": 282
        },
        "id": "jdTQ_f6aFC3u",
        "outputId": "57506539-a78c-4a23-e311-87365657abe9"
      },
      "execution_count": null,
      "outputs": [
        {
          "output_type": "execute_result",
          "data": {
            "text/plain": [
              "[<matplotlib.lines.Line2D at 0x7f0e4cb295d0>]"
            ]
          },
          "metadata": {},
          "execution_count": 115
        },
        {
          "output_type": "display_data",
          "data": {
            "text/plain": [
              "<Figure size 432x288 with 1 Axes>"
            ],
            "image/png": "[encoded data removed]"
          },
          "metadata": {}
        }
      ]
    },
    {
      "cell_type": "code",
      "source": [
        "leftHalf = derivative[:20]\n",
        "leftHalfX = derivativeX[:20]\n",
        "rightHalf = derivative[20:]\n",
        "rightHalfX = derivativeX[20:]\n",
        "print(f\"Peak one: {leftHalfX[np.argmax(leftHalf)]}\")\n",
        "print(f\"Peak two: {rightHalfX[np.argmax(rightHalf)]}\") # Their shift are the same"
      ],
      "metadata": {
        "colab": {
          "base_uri": "https://localhost:8080/"
        },
        "id": "UTSX6Yk-GdGb",
        "outputId": "6e7dcb55-6cfe-4588-a671-75b762a4dca4"
      },
      "execution_count": null,
      "outputs": [
        {
          "output_type": "stream",
          "name": "stdout",
          "text": [
            "Peak one: 10.75\n",
            "Peak two: 29.25\n"
          ]
        }
      ]
    },
    {
      "cell_type": "code",
      "source": [
        "OD = np.array(readData(\"OtherDetial.data\")[:-1])\n",
        "OW = np.array(readData(\"OtherWideRange.data\")[:-1])"
      ],
      "metadata": {
        "id": "APaQA54qHFRy"
      },
      "execution_count": null,
      "outputs": []
    }
  ]
}